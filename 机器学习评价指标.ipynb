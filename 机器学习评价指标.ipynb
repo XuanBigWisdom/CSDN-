{
 "cells": [
  {
   "cell_type": "markdown",
   "id": "12a2c134",
   "metadata": {},
   "source": [
    "1. 机器学习评价指标\n",
    "\n",
    "1.1 分类任务\n",
    "\n",
    "1.1.1 准确率 (Accuracy)"
   ]
  },
  {
   "cell_type": "code",
   "execution_count": 6,
   "id": "a228b221",
   "metadata": {},
   "outputs": [
    {
     "name": "stdout",
     "output_type": "stream",
     "text": [
      "Accuracy (使用库的结果): 0.6\n"
     ]
    }
   ],
   "source": [
    "from sklearn.metrics import accuracy_score\n",
    "\n",
    "y_true = [1, 0, 1, 1, 0]\n",
    "y_pred = [1, 0, 0, 1, 1]\n",
    "accuracy = accuracy_score(y_true, y_pred)\n",
    "print(\"Accuracy (使用库的结果):\", accuracy)\n"
   ]
  },
  {
   "cell_type": "code",
   "execution_count": 7,
   "id": "1a816b3a",
   "metadata": {},
   "outputs": [
    {
     "name": "stdout",
     "output_type": "stream",
     "text": [
      "Accuracy (不使用库的结果): 0.6\n"
     ]
    }
   ],
   "source": [
    "def accuracy(y_true, y_pred):\n",
    "    correct = 0\n",
    "    for i in range(len(y_true)):\n",
    "        if y_true[i] == y_pred[i]:\n",
    "            correct += 1\n",
    "    return correct / len(y_true)\n",
    "\n",
    "print(\"Accuracy (不使用库的结果):\", accuracy(y_true, y_pred))\n",
    "\n"
   ]
  },
  {
   "cell_type": "markdown",
   "id": "8a3778fe",
   "metadata": {},
   "source": [
    "1.1.2 精确率 (Precision)"
   ]
  },
  {
   "cell_type": "code",
   "execution_count": 8,
   "id": "db1a60b8",
   "metadata": {},
   "outputs": [
    {
     "name": "stdout",
     "output_type": "stream",
     "text": [
      "Precision (using library): 0.6666666666666666\n"
     ]
    }
   ],
   "source": [
    "from sklearn.metrics import precision_score\n",
    "\n",
    "precision = precision_score(y_true, y_pred)\n",
    "print(\"Precision (using library):\", precision)\n"
   ]
  },
  {
   "cell_type": "code",
   "execution_count": 9,
   "id": "5836691f",
   "metadata": {},
   "outputs": [
    {
     "name": "stdout",
     "output_type": "stream",
     "text": [
      "Precision (without library): 0.6666666666666666\n"
     ]
    }
   ],
   "source": [
    "def precision(y_true, y_pred):\n",
    "    TP = 0\n",
    "    FP = 0\n",
    "    \n",
    "    for i in range(len(y_true)):\n",
    "        if y_true[i] == 1 and y_pred[i] == 1:\n",
    "            TP += 1\n",
    "        elif y_true[i] == 0 and y_pred[i] == 1:\n",
    "            FP += 1\n",
    "            \n",
    "    if (TP + FP) > 0:\n",
    "        return TP / (TP + FP)\n",
    "    else:\n",
    "        return 0\n",
    "\n",
    "print(\"Precision (without library):\", precision(y_true, y_pred))\n"
   ]
  },
  {
   "cell_type": "markdown",
   "id": "948d0a68",
   "metadata": {},
   "source": [
    "1.1.3 召回率 (Recall)"
   ]
  },
  {
   "cell_type": "code",
   "execution_count": 10,
   "id": "a0e33d62",
   "metadata": {},
   "outputs": [
    {
     "name": "stdout",
     "output_type": "stream",
     "text": [
      "Recall (using library): 0.6666666666666666\n"
     ]
    }
   ],
   "source": [
    "from sklearn.metrics import recall_score\n",
    "\n",
    "recall = recall_score(y_true, y_pred)\n",
    "print(\"Recall (using library):\", recall)\n"
   ]
  },
  {
   "cell_type": "code",
   "execution_count": 11,
   "id": "d9fa9b1a",
   "metadata": {},
   "outputs": [
    {
     "name": "stdout",
     "output_type": "stream",
     "text": [
      "Recall (without library): 0.6666666666666666\n"
     ]
    }
   ],
   "source": [
    "def recall(y_true, y_pred):\n",
    "    TP = 0\n",
    "    FN = 0\n",
    "    \n",
    "    for i in range(len(y_true)):\n",
    "        if y_true[i] == 1 and y_pred[i] == 1:\n",
    "            TP += 1\n",
    "        elif y_true[i] == 1 and y_pred[i] == 0:\n",
    "            FN += 1\n",
    "            \n",
    "    if (TP + FN) > 0:\n",
    "        return TP / (TP + FN)\n",
    "    else:\n",
    "        return 0\n",
    "\n",
    "print(\"Recall (without library):\", recall(y_true, y_pred))\n"
   ]
  },
  {
   "cell_type": "markdown",
   "id": "f6d55b0f",
   "metadata": {},
   "source": [
    "1.1.4 F1-score"
   ]
  },
  {
   "cell_type": "code",
   "execution_count": 12,
   "id": "0794b08c",
   "metadata": {},
   "outputs": [
    {
     "name": "stdout",
     "output_type": "stream",
     "text": [
      "F1 Score (using library): 0.6666666666666666\n"
     ]
    }
   ],
   "source": [
    "from sklearn.metrics import f1_score\n",
    "\n",
    "f1 = f1_score(y_true, y_pred)\n",
    "print(\"F1 Score (using library):\", f1)\n"
   ]
  },
  {
   "cell_type": "code",
   "execution_count": 13,
   "id": "de3dbea2",
   "metadata": {},
   "outputs": [
    {
     "name": "stdout",
     "output_type": "stream",
     "text": [
      "F1 Score (without library): 0.6666666666666666\n"
     ]
    }
   ],
   "source": [
    "def f1_score(y_true, y_pred):\n",
    "    prec = precision(y_true, y_pred)\n",
    "    rec = recall(y_true, y_pred)\n",
    "    \n",
    "    if (prec + rec) > 0:\n",
    "        return 2 * (prec * rec) / (prec + rec)\n",
    "    else:\n",
    "        return 0\n",
    "\n",
    "print(\"F1 Score (without library):\", f1_score(y_true, y_pred))\n"
   ]
  },
  {
   "cell_type": "code",
   "execution_count": null,
   "id": "ec2c0b40",
   "metadata": {},
   "outputs": [],
   "source": [
    "1.1.5 ROC和AUC\n",
    "ROC（Receiver Operating Characteristic）曲线和相关的指标主要用于二分类问题。\n",
    "以下是一些相关的概念和指标：\n",
    "原理： ROC曲线是通过绘制真正率（True Positive Rate, TPR）与假正率（False Positive Rate, FPR）之间的关系来评估分类模型性能的图形。\n",
    "TPR表示正确预测的正样本比例，FPR表示错误预测为正的负样本比例。\n",
    "2. AUC（Area Under the Curve）\n",
    "原理： AUC是ROC曲线下面积的值，表示模型的区分能力。AUC的值在0到1之间，值越接近1表示模型的性能越好，0.5表示随机猜测。"
   ]
  },
  {
   "cell_type": "code",
   "execution_count": 25,
   "id": "7ee84898",
   "metadata": {},
   "outputs": [
    {
     "data": {
      "image/png": "[encoded data removed]",
      "text/plain": [
       "<Figure size 432x288 with 1 Axes>"
      ]
     },
     "metadata": {
      "needs_background": "light"
     },
     "output_type": "display_data"
    },
    {
     "name": "stdout",
     "output_type": "stream",
     "text": [
      "roc_auc 0.75\n"
     ]
    }
   ],
   "source": [
    "from sklearn.metrics import roc_curve, auc\n",
    "import matplotlib.pyplot as plt\n",
    "\n",
    "y_true = [0, 0, 1, 1]\n",
    "y_scores = [0.1, 0.4, 0.35, 0.8]  # 模型的预测分数\n",
    "\n",
    "fpr, tpr, thresholds = roc_curve(y_true, y_scores)\n",
    "roc_auc = auc(fpr, tpr)\n",
    "\n",
    "# 绘制ROC曲线\n",
    "plt.figure()\n",
    "plt.plot(fpr, tpr, color='blue', label='ROC curve (area = {:.2f})'.format(roc_auc))\n",
    "plt.plot([0, 1], [0, 1], color='red', linestyle='--')  # 随机猜测的参考线\n",
    "plt.xlim([0.0, 1.0])\n",
    "plt.ylim([0.0, 1.05])\n",
    "plt.xlabel('False Positive Rate')\n",
    "plt.ylabel('True Positive Rate')\n",
    "plt.title('Receiver Operating Characteristic')\n",
    "plt.legend(loc='lower right')\n",
    "plt.show()\n",
    "\n",
    "print(\"roc_auc\",roc_auc)"
   ]
  },
  {
   "cell_type": "code",
   "execution_count": 24,
   "id": "57d37f97",
   "metadata": {},
   "outputs": [
    {
     "data": {
      "image/png": "[encoded data removed]",
      "text/plain": [
       "<Figure size 432x288 with 1 Axes>"
      ]
     },
     "metadata": {
      "needs_background": "light"
     },
     "output_type": "display_data"
    },
    {
     "name": "stdout",
     "output_type": "stream",
     "text": [
      "AUC (without library): 0.75\n"
     ]
    }
   ],
   "source": [
    "def calculate_roc(y_true, y_scores):\n",
    "    # 创建阈值列表\n",
    "    thresholds = sorted(set(y_scores), reverse=True)\n",
    "    tpr_list = []  # 保存TPR值\n",
    "    fpr_list = []  # 保存FPR值\n",
    "\n",
    "    # 对每个阈值计算TPR和FPR\n",
    "    for threshold in thresholds:\n",
    "        tp = fp = tn = fn = 0  # 初始化计数器\n",
    "        for i in range(len(y_true)):\n",
    "            if y_scores[i] >= threshold:  # 预测为正类\n",
    "                if y_true[i] == 1:\n",
    "                    tp += 1  # 真阳性\n",
    "                else:\n",
    "                    fp += 1  # 假阳性\n",
    "            else:  # 预测为负类\n",
    "                if y_true[i] == 1:\n",
    "                    fn += 1  # 假阴性\n",
    "                else:\n",
    "                    tn += 1  # 真阴性\n",
    "        \n",
    "        # 计算TPR和FPR\n",
    "        if (tp + fn) > 0:\n",
    "            tpr = tp / (tp + fn)  # 真正率\n",
    "        else:\n",
    "            tpr = 0\n",
    "        \n",
    "        if (fp + tn) > 0:\n",
    "            fpr = fp / (fp + tn)  # 假正率\n",
    "        else:\n",
    "            fpr = 0\n",
    "\n",
    "        tpr_list.append(tpr)\n",
    "        fpr_list.append(fpr)\n",
    "\n",
    "    return fpr_list, tpr_list, thresholds\n",
    "\n",
    "# 计算ROC\n",
    "fpr, tpr, thresholds = calculate_roc(y_true, y_scores)\n",
    "\n",
    "# 计算AUC（使用梯形法）\n",
    "def calculate_auc(fpr, tpr):\n",
    "    auc = 0\n",
    "    for i in range(1, len(fpr)):\n",
    "        # 使用梯形法计算AUC\n",
    "        width = fpr[i] - fpr[i - 1]\n",
    "        height = (tpr[i] + tpr[i - 1]) / 2\n",
    "        auc += width * height  # 累加面积\n",
    "    return auc\n",
    "\n",
    "roc_auc = calculate_auc(fpr, tpr)\n",
    "\n",
    "# 绘制ROC曲线\n",
    "plt.figure()\n",
    "plt.plot(fpr, tpr, color='blue', label='ROC curve (AUC = {:.2f})'.format(roc_auc))\n",
    "plt.plot([0, 1], [0, 1], color='red', linestyle='--')  # 随机猜测的基线\n",
    "plt.xlim([0.0, 1.0])\n",
    "plt.ylim([0.0, 1.05])\n",
    "plt.xlabel('False Positive Rate')\n",
    "plt.ylabel('True Positive Rate')\n",
    "plt.title('Receiver Operating Characteristic (without library)')\n",
    "plt.legend(loc='lower right')\n",
    "plt.grid()\n",
    "plt.show()\n",
    "\n",
    "print(\"AUC (without library):\", roc_auc)\n"
   ]
  },
  {
   "cell_type": "markdown",
   "id": "6a8fcf40",
   "metadata": {},
   "source": [
    "1.2 回归任务\n",
    "1.2.1 均方误差 (MSE)"
   ]
  },
  {
   "cell_type": "code",
   "execution_count": null,
   "id": "cdbdf5d9",
   "metadata": {},
   "outputs": [],
   "source": [
    "y_true = [3, -0.5, 2, 7]\n",
    "y_pred = [2.5, 0.0, 2, 8]"
   ]
  },
  {
   "cell_type": "code",
   "execution_count": 18,
   "id": "38123b1e",
   "metadata": {},
   "outputs": [
    {
     "name": "stdout",
     "output_type": "stream",
     "text": [
      "MSE (using library): 0.375\n"
     ]
    }
   ],
   "source": [
    "from sklearn.metrics import mean_squared_error\n",
    "\n",
    "mse = mean_squared_error(y_true, y_pred)\n",
    "print(\"MSE (using library):\", mse)\n"
   ]
  },
  {
   "cell_type": "code",
   "execution_count": 19,
   "id": "968e3637",
   "metadata": {},
   "outputs": [
    {
     "name": "stdout",
     "output_type": "stream",
     "text": [
      "MSE (without library): 0.375\n"
     ]
    }
   ],
   "source": [
    "def mean_squared_error(y_true, y_pred):\n",
    "    total_error = 0\n",
    "    for i in range(len(y_true)):\n",
    "        error = y_true[i] - y_pred[i]  # 计算每个预测值的误差\n",
    "        total_error += error ** 2  # 累加误差的平方\n",
    "    return total_error / len(y_true)  # 返回均方误差\n",
    "\n",
    "print(\"MSE (without library):\", mean_squared_error(y_true, y_pred))\n"
   ]
  },
  {
   "cell_type": "markdown",
   "id": "638839ed",
   "metadata": {},
   "source": [
    "1.2.2 根均方误差 (RMSE)\n",
    "原理： 根均方误差 (RMSE) 是均方误差的平方根，反映与原始数据单位相同的误差程度。"
   ]
  },
  {
   "cell_type": "code",
   "execution_count": 20,
   "id": "efe578a1",
   "metadata": {},
   "outputs": [
    {
     "name": "stdout",
     "output_type": "stream",
     "text": [
      "RMSE (using library): 0.6123724356957945\n"
     ]
    }
   ],
   "source": [
    "import numpy as np\n",
    "\n",
    "rmse = np.sqrt(mse)\n",
    "print(\"RMSE (using library):\", rmse)\n"
   ]
  },
  {
   "cell_type": "code",
   "execution_count": 21,
   "id": "5eb4cee1",
   "metadata": {},
   "outputs": [
    {
     "name": "stdout",
     "output_type": "stream",
     "text": [
      "RMSE (without library): 0.6123724356957945\n"
     ]
    }
   ],
   "source": [
    "def root_mean_squared_error(y_true, y_pred):\n",
    "    mse = mean_squared_error(y_true, y_pred)  # 先计算MSE\n",
    "    return mse ** 0.5  # 返回RMSE\n",
    "\n",
    "print(\"RMSE (without library):\", root_mean_squared_error(y_true, y_pred))\n"
   ]
  },
  {
   "cell_type": "markdown",
   "id": "79e7f9dd",
   "metadata": {},
   "source": [
    "1.2.3 R² (决定系数)"
   ]
  },
  {
   "cell_type": "code",
   "execution_count": null,
   "id": "e951beec",
   "metadata": {},
   "outputs": [],
   "source": [
    "from sklearn.metrics import r2_score\n",
    "\n",
    "r2 = r2_score(y_true, y_pred)\n",
    "print(\"R² (using library):\", r2)\n"
   ]
  },
  {
   "cell_type": "code",
   "execution_count": 15,
   "id": "82245252",
   "metadata": {},
   "outputs": [
    {
     "name": "stdout",
     "output_type": "stream",
     "text": [
      "R² (without library): 0.9486081370449679\n"
     ]
    }
   ],
   "source": [
    "def r2_score(y_true, y_pred):\n",
    "    # 计算真实值的均值\n",
    "    total = 0\n",
    "    for value in y_true:\n",
    "        total += value\n",
    "    mean_true = total / len(y_true)  # 真实值的均值\n",
    "\n",
    "    # 计算总方差\n",
    "    total_variance = 0\n",
    "    for value in y_true:\n",
    "        # 对每个真实值，计算与均值的差的平方，并累加\n",
    "        deviation = value - mean_true  # 真实值与均值的差\n",
    "        total_variance += deviation ** 2  # 累加平方\n",
    "\n",
    "    # 计算残差方差\n",
    "    residual_variance = 0\n",
    "    for i in range(len(y_true)):\n",
    "        # 对每个真实值与预测值，计算其差的平方，并累加\n",
    "        error = y_true[i] - y_pred[i]  # 真实值与预测值的差\n",
    "        residual_variance += error ** 2  # 累加平方\n",
    "\n",
    "    # 计算R²值\n",
    "    if total_variance > 0:  # 防止除以0\n",
    "        r2 = 1 - (residual_variance / total_variance)  # 返回R²值\n",
    "    else:\n",
    "        r2 = 0  # 如果总方差为0，返回0\n",
    "\n",
    "    return r2\n",
    "\n",
    "# 示例\n",
    "\n",
    "print(\"R² (without library):\", r2_score(y_true, y_pred))\n",
    "\n"
   ]
  },
  {
   "cell_type": "code",
   "execution_count": null,
   "id": "6fa18d77",
   "metadata": {},
   "outputs": [],
   "source": []
  }
 ],
 "metadata": {
  "kernelspec": {
   "display_name": "zkrpy310",
   "language": "python",
   "name": "env_name"
  },
  "language_info": {
   "codemirror_mode": {
    "name": "ipython",
    "version": 3
   },
   "file_extension": ".py",
   "mimetype": "text/x-python",
   "name": "python",
   "nbconvert_exporter": "python",
   "pygments_lexer": "ipython3",
   "version": "3.7.6"
  }
 },
 "nbformat": 4,
 "nbformat_minor": 5
}
